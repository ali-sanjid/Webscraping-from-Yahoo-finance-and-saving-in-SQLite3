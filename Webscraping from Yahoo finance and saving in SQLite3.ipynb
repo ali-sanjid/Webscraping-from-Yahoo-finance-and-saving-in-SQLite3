{
 "cells": [
  {
   "cell_type": "code",
   "execution_count": 2,
   "id": "220cd601",
   "metadata": {},
   "outputs": [],
   "source": [
    "import requests\n",
    "from bs4 import BeautifulSoup\n",
    "import numpy as np\n",
    "import pandas as pd\n",
    "from io import StringIO\n",
    "import csv\n",
    "from tqdm import tqdm_notebook as tqdm\n",
    "import seaborn as sns\n",
    "from matplotlib import pyplot as plt\n",
    "import sqlite3"
   ]
  },
  {
   "cell_type": "code",
   "execution_count": 3,
   "id": "41fde7be",
   "metadata": {},
   "outputs": [
    {
     "name": "stdout",
     "output_type": "stream",
     "text": [
      "Getting: AMZN\n",
      "Getting: TSLA\n",
      "Getting: AAPL\n"
     ]
    }
   ],
   "source": [
    "company_list = ['AMZN', 'TSLA', 'AAPL']\n",
    "stockdata = []\n",
    "def getData(company_stock):\n",
    "    url = f'https://query1.finance.yahoo.com/v7/finance/download/{company_stock}?'\n",
    "    params = {\n",
    "           'range': '1y',\n",
    "           'interval':'1mo',\n",
    "           'events':'history',\n",
    "           'includeAdjustedClose':'true'}\n",
    "    url_info = requests.get(url,params = params, headers= {\"User-Agent\": \"Mozilla/5.0 (Windows NT 10.0; Win64; x64)\"})\n",
    "    #print(url_info.text)\n",
    "    file = StringIO(url_info.text)\n",
    "    reader = csv.reader(file)\n",
    "    data = list(reader)\n",
    "    #print(data)\n",
    "\n",
    "    data_frame = pd.DataFrame(data[1:], columns = ['Date', 'Open', 'High', 'Low', 'Close', 'Adj Close', 'Volume'])\n",
    "    data_frame.insert(1, 'Company Name', f'{company_stock}')\n",
    "    return pd.DataFrame(data_frame)\n",
    "    \n",
    "for company in company_list:\n",
    "    stockdata.append(getData(company))\n",
    "    print(f'Getting: {company}')\n"
   ]
  },
  {
   "cell_type": "code",
   "execution_count": null,
   "id": "2cfd7543",
   "metadata": {},
   "outputs": [],
   "source": [
    "combined_list = pd.concat(stockdata)\n",
    "print(combined_list)\n"
   ]
  },
  {
   "cell_type": "code",
   "execution_count": null,
   "id": "b0e82547",
   "metadata": {},
   "outputs": [],
   "source": [
    "closing_price = combined_list[['Date', 'Company Name', 'Close']]\n",
    "print(closing_price)"
   ]
  },
  {
   "cell_type": "code",
   "execution_count": 40,
   "id": "06ee601b",
   "metadata": {},
   "outputs": [],
   "source": [
    "#Using SQLite3: \n",
    "connection = sqlite3.connect('practice_finance.db')\n",
    "cursor = connection.cursor()\n",
    "#Creating table:\n",
    "tables_1 = 'Create Table stock_data (id integer, date datetime, company_name varchar(100) , open integer, high integer, low integer, close integer, adj_close integer, volume integer)'  \n",
    "cursor.execute(tables_1)\n",
    "\n",
    "connection.commit()"
   ]
  },
  {
   "cell_type": "code",
   "execution_count": 44,
   "id": "364b6c9e",
   "metadata": {},
   "outputs": [],
   "source": [
    "#inserting information:\n",
    "insert_amazon = 'Insert into stock_data (id, date, company_name, open, high, low, close, adj_close, volume) values (?, ?, ?, ?, ?, ?, ?, ?, ?)'\n",
    "cursor = connection.cursor()\n",
    "for info in combined_list.itertuples():\n",
    "    cursor.execute(insert_amazon, info)\n",
    "connection.commit()\n"
   ]
  },
  {
   "cell_type": "code",
   "execution_count": null,
   "id": "6b0aef87",
   "metadata": {},
   "outputs": [],
   "source": [
    "#Query:\n",
    "query_1 = ''' \n",
    "select * from stock_data where company_name = 'AMZN'\n",
    "'''\n",
    "for i in cursor.execute(query_1):\n",
    "    print(i)"
   ]
  },
  {
   "cell_type": "code",
   "execution_count": 21,
   "id": "9be6bd55",
   "metadata": {},
   "outputs": [
    {
     "name": "stdout",
     "output_type": "stream",
     "text": [
      "('2022-06-01', 'AMZN', 1144.76001, 106.209999)\n"
     ]
    }
   ],
   "source": [
    "query_2 = ''' \n",
    "select date, company_name, max(close), min(close) from stock_data\n",
    "'''\n",
    "for i in cursor.execute(query_2):\n",
    "    print(i)"
   ]
  },
  {
   "cell_type": "code",
   "execution_count": 45,
   "id": "d087a56d",
   "metadata": {},
   "outputs": [
    {
     "name": "stdout",
     "output_type": "stream",
     "text": [
      "('2022-06-01', 154.56730823076924, 149.3275393846154, 175.3535, 106.209999)\n"
     ]
    }
   ],
   "source": [
    "query_3 = ''' \n",
    "select date, avg(open), avg(close), max(close), min(close) from stock_data where company_name = 'AMZN'\n",
    "'''\n",
    "for i in cursor.execute(query_3):\n",
    "    print(i)"
   ]
  }
 ],
 "metadata": {
  "kernelspec": {
   "display_name": "Python 3",
   "language": "python",
   "name": "python3"
  },
  "language_info": {
   "codemirror_mode": {
    "name": "ipython",
    "version": 3
   },
   "file_extension": ".py",
   "mimetype": "text/x-python",
   "name": "python",
   "nbconvert_exporter": "python",
   "pygments_lexer": "ipython3",
   "version": "3.10.4"
  },
  "vscode": {
   "interpreter": {
    "hash": "26de051ba29f2982a8de78e945f0abaf191376122a1563185a90213a26c5da77"
   }
  }
 },
 "nbformat": 4,
 "nbformat_minor": 5
}
